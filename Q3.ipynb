{
  "nbformat": 4,
  "nbformat_minor": 0,
  "metadata": {
    "colab": {
      "provenance": []
    },
    "kernelspec": {
      "name": "python3",
      "display_name": "Python 3"
    },
    "language_info": {
      "name": "python"
    }
  },
  "cells": [
    {
      "cell_type": "code",
      "execution_count": 11,
      "metadata": {
        "id": "6H8MFtdzaCgx"
      },
      "outputs": [],
      "source": [
        "import math\n",
        "import numpy as np\n",
        "import matplotlib.pyplot as plt"
      ]
    },
    {
      "cell_type": "markdown",
      "source": [
        "Norm function"
      ],
      "metadata": {
        "id": "qUxcfMC6e79p"
      }
    },
    {
      "cell_type": "code",
      "source": [
        "def norm(x):\n",
        "  norm = 0\n",
        "  for i in range(len(x)):\n",
        "    norm += x[i]**2\n",
        "  return math.sqrt(norm)"
      ],
      "metadata": {
        "id": "LF_IhoPrlTI1"
      },
      "execution_count": 12,
      "outputs": []
    },
    {
      "cell_type": "markdown",
      "source": [
        "In $$ R^n_+ $$ we have:\n",
        "\n",
        "$$ P_C(x) = [x]_+ = \\{max(x_1, max(x_2, 0), ..., max(x_n, 0)\\} $$"
      ],
      "metadata": {
        "id": "2o_xTDemZ-_u"
      }
    },
    {
      "cell_type": "code",
      "source": [
        "# C = R^n\n",
        "def positive_real_numbers(x):\n",
        "  li = []\n",
        "  for i in range(len(x)):\n",
        "    li.append(max(0, x[i]))\n",
        "\n",
        "  return np.array(li)"
      ],
      "metadata": {
        "id": "NNsJeI5NpZWL"
      },
      "execution_count": 13,
      "outputs": []
    },
    {
      "cell_type": "markdown",
      "source": [
        "in $$ [l_1, u_1]*[l_2, u_2]*...*[l_n, l_n] $$ we have:\n",
        "$$ P_C(x) = x_i \\; where \\;\\; l_i < x_i < u_i $$\n",
        "$$ P_C(x) = l_i \\; where \\;\\; x_i \\le l_i $$\n",
        "$$ P_C(x) = u_i \\; where \\;\\; x_i \\ge l_i $$"
      ],
      "metadata": {
        "id": "11e86rJReAxI"
      }
    },
    {
      "cell_type": "code",
      "source": [
        "# C = Box\n",
        "def box(x, l, u):\n",
        "  project = []\n",
        "  for i in range(len(x)):\n",
        "    if l[i] < x[i] < u[i]:\n",
        "      project.append(x[i])\n",
        "    elif x[i] <= l[i]:\n",
        "      project.append(l[i])\n",
        "    elif x[i] >= u[i]:\n",
        "      project.append(u[i])\n",
        "\n",
        "  return np.array(project)"
      ],
      "metadata": {
        "id": "_i2QJJugp3Rj"
      },
      "execution_count": 14,
      "outputs": []
    },
    {
      "cell_type": "markdown",
      "source": [
        "in $$ B[0, r] $$ we have:\n",
        "\n",
        "$$ P_C(x) = x \\; where \\;\\; ||x|| \\le r$$\n",
        "$$ P_C(x) = \\frac{rx}{||x||} \\; where \\;\\; ||x|| > r $$"
      ],
      "metadata": {
        "id": "mHMeNdFBnzuR"
      }
    },
    {
      "cell_type": "code",
      "source": [
        "# Ball\n",
        "def ball(x, r):\n",
        "  if norm(x) <= r:\n",
        "    return x\n",
        "  else:\n",
        "    return np.array((r*x)/norm(x))"
      ],
      "metadata": {
        "id": "0tDVzoamrCzP"
      },
      "execution_count": 15,
      "outputs": []
    },
    {
      "cell_type": "code",
      "source": [
        "# Box example\n",
        "def f1(x):\n",
        "  return -(x[0] - 2)**2 - (x[1] - 2)**2\n",
        "\n",
        "def f1_grad(x):\n",
        "  return np.array([-2*(x[0]-2), -2*(x[1] - 2)])\n",
        "\n",
        "# Ball example\n",
        "def f2(x):\n",
        "  return 2*x[0] + 2*x[1]\n",
        "\n",
        "def f2_grad(x):\n",
        "  return np.array([2, 2])\n",
        "\n",
        "\n",
        "# R^n_+ example\n",
        "def f3(x):\n",
        "  return (x[0]-2)**2 + (x[1]-1)**2\n",
        "\n",
        "def f3_grad(x):\n",
        "  return np.array([2*(x[0]-2), 2*(x[1]-1)])"
      ],
      "metadata": {
        "id": "6MHLdSEG1_8a"
      },
      "execution_count": 16,
      "outputs": []
    },
    {
      "cell_type": "code",
      "source": [
        "def gradient_method_box(eps, x_0, l = [], u = []):\n",
        "\n",
        "  t_k = 2\n",
        "  x_k = x_0\n",
        "  k = 0\n",
        "  # f1_value = f1(x_k)\n",
        "  print(\"x_%d: %s\" % (0, x_k,))\n",
        "  print(\"----------------------------------\")\n",
        "\n",
        "\n",
        "\n",
        "  while (True):\n",
        "    k += 1\n",
        "    f1_grad_value = f1_grad(x_k)\n",
        "    tmp = x_k - t_k * f1_grad_value\n",
        "    x_k1 = box(tmp, l, u)\n",
        "\n",
        "    print(\"iter_number: %d, x_%d: %s\" % (k, k, x_k1,))\n",
        "    print(\"----------------------------------\")\n",
        "\n",
        "    if (norm(x_k - x_k1) <= eps):\n",
        "      return x_k, k\n",
        "    x_k = x_k1"
      ],
      "metadata": {
        "id": "wmixBRWXlaMA"
      },
      "execution_count": 32,
      "outputs": []
    },
    {
      "cell_type": "code",
      "source": [
        "def gradient_method_ball(eps, x_0, r):\n",
        "\n",
        "  t_k = 1\n",
        "  x_k = x_0\n",
        "  k = 0\n",
        "  # f1_value = f1(x_k)\n",
        "  print(\"x_%d: %s\" % (0, x_k,))\n",
        "  print(\"----------------------------------\")\n",
        "\n",
        "\n",
        "\n",
        "  while (True):\n",
        "    k += 1\n",
        "    f2_grad_value = f2_grad(x_k)\n",
        "    tmp = x_k - t_k * f2_grad_value\n",
        "    x_k1 = ball(tmp, r)\n",
        "\n",
        "    print(\"iter_number: %d, x_%d: %s\" % (k, k, x_k1,))\n",
        "    print(\"----------------------------------\")\n",
        "\n",
        "    if (norm(x_k - x_k1) <= eps or k > 100):\n",
        "      return x_k, k\n",
        "\n",
        "    x_k = x_k1"
      ],
      "metadata": {
        "id": "e1qFv8AVooLg"
      },
      "execution_count": 34,
      "outputs": []
    },
    {
      "cell_type": "code",
      "source": [
        "def gradient_method_pos(eps, x_0):\n",
        "\n",
        "  t_k = .1\n",
        "  x_k = x_0\n",
        "  k = 0\n",
        "  print(\"x_%d: %s\" % (0, x_k,))\n",
        "  print(\"----------------------------------\")\n",
        "\n",
        "\n",
        "\n",
        "  while (True):\n",
        "    k += 1\n",
        "    f3_grad_value = f3_grad(x_k)\n",
        "    tmp = x_k - t_k * f3_grad_value\n",
        "    x_k1 = positive_real_numbers(tmp)\n",
        "\n",
        "    print(\"iter_number: %d, x_%d: %s\" % (k, k, x_k1,))\n",
        "    print(\"----------------------------------\")\n",
        "\n",
        "    if (norm(x_k - x_k1) <= eps):\n",
        "      return x_k, k\n",
        "\n",
        "    x_k = x_k1"
      ],
      "metadata": {
        "id": "-fi8M6heORtL"
      },
      "execution_count": 19,
      "outputs": []
    },
    {
      "cell_type": "code",
      "source": [
        "x_0 = np.array([1, 1])\n",
        "epsilon = 10**(-5)\n",
        "print(\"Gradient Projection for a function with box constraint: \")\n",
        "gradient_method_box(epsilon, x_0, [-1, -2], [1, 2])\n",
        "\n",
        "print(\"\\n.......................................................\\n\")\n",
        "\n",
        "x_0 = np.array([1, 1])\n",
        "print(\"Gradient Projection for a function with ball constraint: \")\n",
        "gradient_method_ball(epsilon, x_0, 2)\n",
        "\n",
        "print(\"\\n.......................................................\\n\")\n",
        "\n",
        "x_0 = np.array([1, 1])\n",
        "print(\"Gradient Projection for a function with R^n_+ constraint: \")\n",
        "gradient_method_pos(epsilon, x_0)\n",
        "\n"
      ],
      "metadata": {
        "colab": {
          "base_uri": "https://localhost:8080/"
        },
        "id": "xmlUv2ZTlb6r",
        "outputId": "8c4493ea-e95a-4faa-a2b7-5ecb531837c1"
      },
      "execution_count": 35,
      "outputs": [
        {
          "output_type": "stream",
          "name": "stdout",
          "text": [
            "Gradient Projection for a function with box constraint: \n",
            "x_0: [1 1]\n",
            "----------------------------------\n",
            "iter_number: 1, x_1: [-1 -2]\n",
            "----------------------------------\n",
            "iter_number: 2, x_2: [-1 -2]\n",
            "----------------------------------\n",
            "\n",
            ".......................................................\n",
            "\n",
            "Gradient Projection for a function with ball constraint: \n",
            "x_0: [1 1]\n",
            "----------------------------------\n",
            "iter_number: 1, x_1: [-1 -1]\n",
            "----------------------------------\n",
            "iter_number: 2, x_2: [-1.41421356 -1.41421356]\n",
            "----------------------------------\n",
            "iter_number: 3, x_3: [-1.41421356 -1.41421356]\n",
            "----------------------------------\n",
            "\n",
            ".......................................................\n",
            "\n",
            "Gradient Projection for a function with R^n_+ constraint: \n",
            "x_0: [1 1]\n",
            "----------------------------------\n",
            "iter_number: 1, x_1: [1.2 1. ]\n",
            "----------------------------------\n",
            "iter_number: 2, x_2: [1.36 1.  ]\n",
            "----------------------------------\n",
            "iter_number: 3, x_3: [1.488 1.   ]\n",
            "----------------------------------\n",
            "iter_number: 4, x_4: [1.5904 1.    ]\n",
            "----------------------------------\n",
            "iter_number: 5, x_5: [1.67232 1.     ]\n",
            "----------------------------------\n",
            "iter_number: 6, x_6: [1.737856 1.      ]\n",
            "----------------------------------\n",
            "iter_number: 7, x_7: [1.7902848 1.       ]\n",
            "----------------------------------\n",
            "iter_number: 8, x_8: [1.83222784 1.        ]\n",
            "----------------------------------\n",
            "iter_number: 9, x_9: [1.86578227 1.        ]\n",
            "----------------------------------\n",
            "iter_number: 10, x_10: [1.89262582 1.        ]\n",
            "----------------------------------\n",
            "iter_number: 11, x_11: [1.91410065 1.        ]\n",
            "----------------------------------\n",
            "iter_number: 12, x_12: [1.93128052 1.        ]\n",
            "----------------------------------\n",
            "iter_number: 13, x_13: [1.94502442 1.        ]\n",
            "----------------------------------\n",
            "iter_number: 14, x_14: [1.95601953 1.        ]\n",
            "----------------------------------\n",
            "iter_number: 15, x_15: [1.96481563 1.        ]\n",
            "----------------------------------\n",
            "iter_number: 16, x_16: [1.9718525 1.       ]\n",
            "----------------------------------\n",
            "iter_number: 17, x_17: [1.977482 1.      ]\n",
            "----------------------------------\n",
            "iter_number: 18, x_18: [1.9819856 1.       ]\n",
            "----------------------------------\n",
            "iter_number: 19, x_19: [1.98558848 1.        ]\n",
            "----------------------------------\n",
            "iter_number: 20, x_20: [1.98847078 1.        ]\n",
            "----------------------------------\n",
            "iter_number: 21, x_21: [1.99077663 1.        ]\n",
            "----------------------------------\n",
            "iter_number: 22, x_22: [1.9926213 1.       ]\n",
            "----------------------------------\n",
            "iter_number: 23, x_23: [1.99409704 1.        ]\n",
            "----------------------------------\n",
            "iter_number: 24, x_24: [1.99527763 1.        ]\n",
            "----------------------------------\n",
            "iter_number: 25, x_25: [1.99622211 1.        ]\n",
            "----------------------------------\n",
            "iter_number: 26, x_26: [1.99697769 1.        ]\n",
            "----------------------------------\n",
            "iter_number: 27, x_27: [1.99758215 1.        ]\n",
            "----------------------------------\n",
            "iter_number: 28, x_28: [1.99806572 1.        ]\n",
            "----------------------------------\n",
            "iter_number: 29, x_29: [1.99845257 1.        ]\n",
            "----------------------------------\n",
            "iter_number: 30, x_30: [1.99876206 1.        ]\n",
            "----------------------------------\n",
            "iter_number: 31, x_31: [1.99900965 1.        ]\n",
            "----------------------------------\n",
            "iter_number: 32, x_32: [1.99920772 1.        ]\n",
            "----------------------------------\n",
            "iter_number: 33, x_33: [1.99936617 1.        ]\n",
            "----------------------------------\n",
            "iter_number: 34, x_34: [1.99949294 1.        ]\n",
            "----------------------------------\n",
            "iter_number: 35, x_35: [1.99959435 1.        ]\n",
            "----------------------------------\n",
            "iter_number: 36, x_36: [1.99967548 1.        ]\n",
            "----------------------------------\n",
            "iter_number: 37, x_37: [1.99974039 1.        ]\n",
            "----------------------------------\n",
            "iter_number: 38, x_38: [1.99979231 1.        ]\n",
            "----------------------------------\n",
            "iter_number: 39, x_39: [1.99983385 1.        ]\n",
            "----------------------------------\n",
            "iter_number: 40, x_40: [1.99986708 1.        ]\n",
            "----------------------------------\n",
            "iter_number: 41, x_41: [1.99989366 1.        ]\n",
            "----------------------------------\n",
            "iter_number: 42, x_42: [1.99991493 1.        ]\n",
            "----------------------------------\n",
            "iter_number: 43, x_43: [1.99993194 1.        ]\n",
            "----------------------------------\n",
            "iter_number: 44, x_44: [1.99994555 1.        ]\n",
            "----------------------------------\n",
            "iter_number: 45, x_45: [1.99995644 1.        ]\n",
            "----------------------------------\n",
            "iter_number: 46, x_46: [1.99996516 1.        ]\n",
            "----------------------------------\n"
          ]
        },
        {
          "output_type": "execute_result",
          "data": {
            "text/plain": [
              "(array([1.99995644, 1.        ]), 46)"
            ]
          },
          "metadata": {},
          "execution_count": 35
        }
      ]
    },
    {
      "cell_type": "code",
      "source": [],
      "metadata": {
        "id": "fKN1oxhg4VR9"
      },
      "execution_count": null,
      "outputs": []
    }
  ]
}